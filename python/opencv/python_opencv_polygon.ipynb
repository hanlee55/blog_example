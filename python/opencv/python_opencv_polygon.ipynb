{
  "nbformat": 4,
  "nbformat_minor": 0,
  "metadata": {
    "colab": {
      "name": "opencv python - 폴리곤(다각형) 그리기",
      "provenance": []
    },
    "kernelspec": {
      "name": "python3",
      "display_name": "Python 3"
    },
    "language_info": {
      "name": "python"
    }
  },
  "cells": [
    {
      "cell_type": "markdown",
      "source": [
        "opencv python - 폴리곤(다각형) 그리기\n",
        "======\n",
        "\n",
        "이번 영상에서는 파이썬 opencv로 다각형을 그리는 방법에 대해 다루어 보겠습니다.\n",
        "\n",
        "opencv 컴퓨터 비전 관련 라이브러리로 이름 자체도 **open** **C**omputer **V**ision 입니다.\n",
        "\n",
        "폴리곤은 다각형 외에도 *물체가 있는 영역을 지정하는데 사용*되는 등 다양한곳에 사용됩니다."
      ],
      "metadata": {
        "id": "N8FC4H3vM5GS"
      }
    },
    {
      "cell_type": "markdown",
      "source": [
        "## 라이브러리 불러오기\n",
        "필요한 라이브러리를 설치하고 불러옵니다"
      ],
      "metadata": {
        "id": "5lys9ngkW-aw"
      }
    },
    {
      "cell_type": "code",
      "source": [
        "# 필요한 라이브러리를 설치합니다.\n",
        "# (colab에서 실행하는 경우 이미 설치가 되어있습니다)\n",
        "!pip install opencv-python\n",
        "!pip install numpy"
      ],
      "metadata": {
        "colab": {
          "base_uri": "https://localhost:8080/"
        },
        "id": "nSJI1VzzXI7g",
        "outputId": "be84df79-c60a-44a3-b488-90abee33f538"
      },
      "execution_count": 1,
      "outputs": [
        {
          "output_type": "stream",
          "name": "stdout",
          "text": [
            "Looking in indexes: https://pypi.org/simple, https://us-python.pkg.dev/colab-wheels/public/simple/\n",
            "Requirement already satisfied: opencv-python in /usr/local/lib/python3.7/dist-packages (4.6.0.66)\n",
            "Requirement already satisfied: numpy>=1.14.5 in /usr/local/lib/python3.7/dist-packages (from opencv-python) (1.21.6)\n",
            "Looking in indexes: https://pypi.org/simple, https://us-python.pkg.dev/colab-wheels/public/simple/\n",
            "Requirement already satisfied: numpy in /usr/local/lib/python3.7/dist-packages (1.21.6)\n"
          ]
        }
      ]
    },
    {
      "cell_type": "code",
      "execution_count": 2,
      "metadata": {
        "id": "AVBTlu8PM3x1"
      },
      "outputs": [],
      "source": [
        "# 라이브러리를 불러옵니다\n",
        "import cv2\n",
        "import numpy as np  # 수학관련 라이브러리"
      ]
    },
    {
      "cell_type": "code",
      "source": [
        "## colab에서 실행 시키는 경우에만 실행해 주세요 ##\n",
        "# colab에서 동일한 코드로 이미지를 화면에 보이게 하기 위한 코드입니다\n",
        "from google.colab.patches import cv2_imshow\n",
        "def colab_imshow(window_name, source):\n",
        "    print(\"[{}]\".format(window_name))\n",
        "    cv2_imshow(source)\n",
        "cv2.imshow = colab_imshow"
      ],
      "metadata": {
        "id": "SAufhAx3U8Ix"
      },
      "execution_count": 3,
      "outputs": []
    },
    {
      "cell_type": "markdown",
      "source": [
        "## 비어있는 이미지 만들기\n",
        "\n",
        "검정색 배경의 300(가로) X 400(세로) 크기의 이미지를 생성합니다\n",
        "\n",
        "`(400, 300, 3)`에서 400은 세로의 길이, 300은 가로의 길이, 3의 채널 수로 컬러 이미지를 생성합니다\n",
        "\n",
        "`np.zeros()` (괄호 안에 있는 속성으로 값이 0인 배열을 생성합니다) 즉 검은색인 이미지를 생성합니다 (값이 모두 0이면 검은색이기 때문입니다)"
      ],
      "metadata": {
        "id": "EygBgZ_hXrzQ"
      }
    },
    {
      "cell_type": "code",
      "source": [
        "img = np.zeros((400, 300, 3), dtype=np.uint8)"
      ],
      "metadata": {
        "id": "5318JA02NDrJ"
      },
      "execution_count": 4,
      "outputs": []
    },
    {
      "cell_type": "markdown",
      "source": [
        "## 다각형 꼭지점 좌표 지정\n",
        "\n",
        "리스트 안에 다각형의 꼭지점의 좌표 값을 순서대로 넣어 줍니다"
      ],
      "metadata": {
        "id": "k9CWUslhYk-A"
      }
    },
    {
      "cell_type": "code",
      "source": [
        "figure1 = [(10, 100), (200, 250), (20, 300)]  # 다각형의 각 점의 좌표를 입력합니다."
      ],
      "metadata": {
        "id": "tqEH8iKNT-Me"
      },
      "execution_count": 5,
      "outputs": []
    },
    {
      "cell_type": "markdown",
      "source": [
        "## 다각형 그리기\n",
        "\n",
        "아까 생성한 이미지 위에 다각형을 그려 결과를 src변수에 담습니다\n",
        "\n",
        "### 인자\n",
        "`cv2.polylines(img, [np.array(figure1, dtype=np.int32)], True, (255, 0, 0), 2)`\n",
        "\n",
        "`img` - img 변수에 담긴 이미지 위에 그립니다\n",
        "\n",
        "`[np.array(figure1, dtype=np.int32)]` 위에서 설정한 다각형 꼭지점의 좌표 값을 토대로 입력해주어야하는 형태로 변환하여 다각형을 지정합니다.\n",
        "\n",
        "`True` - 첫번째 좌표와 마지막 좌표의 점을 연결할지에 대한 여부입니다. (참 으로 설정해 줍니다)\n",
        "\n",
        "`(255, 0, 0)` - 도형의 생상 입니다. Bule Green Red 순서 0~255까지의 값을 넣어 생상을 지정합니다\n",
        "\n",
        "`2` - 도형을 그릴 선의 두께 입니다."
      ],
      "metadata": {
        "id": "4pt2y0JyYt1N"
      }
    },
    {
      "cell_type": "code",
      "source": [
        "# 이미지 위에 다각형을 그리고 src 이름의 변수로 저장합니다\n",
        "src = cv2.polylines(img, [np.array(figure1, dtype=np.int32)], True, (255, 0, 0), 2)  "
      ],
      "metadata": {
        "id": "Zj0g4ECkUeGx"
      },
      "execution_count": 6,
      "outputs": []
    },
    {
      "cell_type": "code",
      "source": [
        "# 이미지를 출력합니다.\n",
        "cv2.imshow(\"test\", src)"
      ],
      "metadata": {
        "colab": {
          "base_uri": "https://localhost:8080/",
          "height": 435
        },
        "id": "1cqX81mZUpLu",
        "outputId": "8b7d5959-6316-421d-cba7-e7f7f16304b5"
      },
      "execution_count": 7,
      "outputs": [
        {
          "output_type": "stream",
          "name": "stdout",
          "text": [
            "[test]\n"
          ]
        },
        {
          "output_type": "display_data",
          "data": {
            "text/plain": [
              "<PIL.Image.Image image mode=RGB size=300x400 at 0x7F52725B6F90>"
            ],
            "image/png": "[encoded data removed]"
          },
          "metadata": {}
        }
      ]
    },
    {
      "cell_type": "markdown",
      "source": [
        "## [응용] 다각형 여러개 그리기\n",
        "\n",
        "다각형 여러개를 리스트에 넣어 하나씩 꺼내 차례대로 그려줍니다"
      ],
      "metadata": {
        "id": "te1FYcLDazE5"
      }
    },
    {
      "cell_type": "code",
      "source": [
        "# 이미지 비우기*\n",
        "img = np.zeros((400, 300, 3), dtype=np.uint8)"
      ],
      "metadata": {
        "id": "Pen5GIYpbFiI"
      },
      "execution_count": 8,
      "outputs": []
    },
    {
      "cell_type": "code",
      "source": [
        "figure = [\n",
        "    [(10, 100), (200, 250), (20, 300)],  # 삼각형\n",
        "    [(30, 20), (50, 200), (120, 200), (100, 20)],  # 사각형\n",
        "]"
      ],
      "metadata": {
        "id": "0hj4YhBZayTx"
      },
      "execution_count": 9,
      "outputs": []
    },
    {
      "cell_type": "code",
      "source": [
        "for i in figure:\n",
        "    img = cv2.polylines(img, [np.array(i, dtype=np.int32)], True, (0, 255, 0), 1)  "
      ],
      "metadata": {
        "id": "scebHjK9UuXn"
      },
      "execution_count": 10,
      "outputs": []
    },
    {
      "cell_type": "code",
      "source": [
        "# 이미지를 출력합니다.\n",
        "cv2.imshow(\"test2\", img)"
      ],
      "metadata": {
        "colab": {
          "base_uri": "https://localhost:8080/",
          "height": 435
        },
        "id": "rX2s9pU7bc53",
        "outputId": "0e7bb8d0-d1c0-4360-cf22-d5973d15529f"
      },
      "execution_count": 11,
      "outputs": [
        {
          "output_type": "stream",
          "name": "stdout",
          "text": [
            "[test2]\n"
          ]
        },
        {
          "output_type": "display_data",
          "data": {
            "text/plain": [
              "<PIL.Image.Image image mode=RGB size=300x400 at 0x7F527253BDD0>"
            ],
            "image/png": "[encoded data removed]"
          },
          "metadata": {}
        }
      ]
    },
    {
      "cell_type": "markdown",
      "source": [
        "## [추가] 끝이 이어지지 않은 도형"
      ],
      "metadata": {
        "id": "CZtRw6MAb7IE"
      }
    },
    {
      "cell_type": "code",
      "source": [
        "# 이미지 비우기\n",
        "img = np.zeros((400, 300, 3), dtype=np.uint8)\n",
        "# 다각형 좌표 지정\n",
        "figure3 = [(10, 100), (200, 250), (20, 300)]"
      ],
      "metadata": {
        "id": "rQCt_7jHbf6Z"
      },
      "execution_count": 12,
      "outputs": []
    },
    {
      "cell_type": "code",
      "source": [
        "src = cv2.polylines(img, [np.array(figure3, dtype=np.int32)], False, (0, 0, 255), 5)  "
      ],
      "metadata": {
        "id": "xkPOIbmFcCxa"
      },
      "execution_count": 13,
      "outputs": []
    },
    {
      "cell_type": "code",
      "source": [
        "# 이미지를 출력합니다.\n",
        "cv2.imshow(\"test3\", src)"
      ],
      "metadata": {
        "colab": {
          "base_uri": "https://localhost:8080/",
          "height": 435
        },
        "id": "wqPIkHijcGB0",
        "outputId": "2067ed00-290f-4cfc-b82e-8b9355c8660a"
      },
      "execution_count": 14,
      "outputs": [
        {
          "output_type": "stream",
          "name": "stdout",
          "text": [
            "[test3]\n"
          ]
        },
        {
          "output_type": "display_data",
          "data": {
            "text/plain": [
              "<PIL.Image.Image image mode=RGB size=300x400 at 0x7F527253F790>"
            ],
            "image/png": "[encoded data removed]"
          },
          "metadata": {}
        }
      ]
    },
    {
      "cell_type": "markdown",
      "source": [
        "## [마무리] 다음시간\n",
        "\n",
        "안이 채워져 있는 도형을 만드는 방법을 알아보겠습니다"
      ],
      "metadata": {
        "id": "Gy1i7kIZceFA"
      }
    }
  ]
}